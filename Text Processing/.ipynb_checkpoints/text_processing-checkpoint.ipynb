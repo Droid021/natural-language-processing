{
 "cells": [
  {
   "cell_type": "markdown",
   "metadata": {},
   "source": [
    "### Plain Text"
   ]
  },
  {
   "cell_type": "code",
   "execution_count": 1,
   "metadata": {},
   "outputs": [
    {
     "name": "stdout",
     "output_type": "stream",
     "text": [
      "Hieroglyphic writing dates from c. 3000 BC, and is composed of hundreds of symbols. A hieroglyph can represent a word, a sound, or a silent determinative; and the same symbol can serve different purposes in different contexts. Hieroglyphs were a formal script, used on stone monuments and in tombs, that could be as detailed as individual works of art.\n",
      "\n"
     ]
    }
   ],
   "source": [
    "with open('data/hieroglyph.txt','r') as f:\n",
    "    text = f.read()\n",
    "    print(text)"
   ]
  },
  {
   "cell_type": "code",
   "execution_count": 2,
   "metadata": {},
   "outputs": [],
   "source": [
    "### Tabular"
   ]
  },
  {
   "cell_type": "code",
   "execution_count": 10,
   "metadata": {},
   "outputs": [
    {
     "data": {
      "text/html": [
       "<div>\n",
       "<style scoped>\n",
       "    .dataframe tbody tr th:only-of-type {\n",
       "        vertical-align: middle;\n",
       "    }\n",
       "\n",
       "    .dataframe tbody tr th {\n",
       "        vertical-align: top;\n",
       "    }\n",
       "\n",
       "    .dataframe thead th {\n",
       "        text-align: right;\n",
       "    }\n",
       "</style>\n",
       "<table border=\"1\" class=\"dataframe\">\n",
       "  <thead>\n",
       "    <tr style=\"text-align: right;\">\n",
       "      <th></th>\n",
       "      <th>publisher</th>\n",
       "      <th>title</th>\n",
       "    </tr>\n",
       "  </thead>\n",
       "  <tbody>\n",
       "    <tr>\n",
       "      <th>0</th>\n",
       "      <td>Livemint</td>\n",
       "      <td>fed's charles plosser sees high bar for change...</td>\n",
       "    </tr>\n",
       "    <tr>\n",
       "      <th>1</th>\n",
       "      <td>IFA Magazine</td>\n",
       "      <td>us open: stocks fall after fed official hints ...</td>\n",
       "    </tr>\n",
       "    <tr>\n",
       "      <th>2</th>\n",
       "      <td>IFA Magazine</td>\n",
       "      <td>fed risks falling 'behind the curve', charles ...</td>\n",
       "    </tr>\n",
       "    <tr>\n",
       "      <th>3</th>\n",
       "      <td>Moneynews</td>\n",
       "      <td>fed's plosser: nasty weather has curbed job gr...</td>\n",
       "    </tr>\n",
       "    <tr>\n",
       "      <th>4</th>\n",
       "      <td>NASDAQ</td>\n",
       "      <td>plosser: fed may have to accelerate tapering pace</td>\n",
       "    </tr>\n",
       "  </tbody>\n",
       "</table>\n",
       "</div>"
      ],
      "text/plain": [
       "      publisher                                              title\n",
       "0      Livemint  fed's charles plosser sees high bar for change...\n",
       "1  IFA Magazine  us open: stocks fall after fed official hints ...\n",
       "2  IFA Magazine  fed risks falling 'behind the curve', charles ...\n",
       "3     Moneynews  fed's plosser: nasty weather has curbed job gr...\n",
       "4        NASDAQ  plosser: fed may have to accelerate tapering pace"
      ]
     },
     "execution_count": 10,
     "metadata": {},
     "output_type": "execute_result"
    }
   ],
   "source": [
    "import pandas as pd\n",
    "df = pd.read_csv('data/news.csv')\n",
    "# df.head()[['publisher','title']]\n",
    "\n",
    "# convert title to lower case\n",
    "\n",
    "df['title'] = df['title'].str.lower()\n",
    "df.head()[['publisher','title']]"
   ]
  },
  {
   "cell_type": "markdown",
   "metadata": {},
   "source": [
    "### Online"
   ]
  },
  {
   "cell_type": "code",
   "execution_count": 21,
   "metadata": {},
   "outputs": [
    {
     "name": "stdout",
     "output_type": "stream",
     "text": [
      "When I see people stand fully in their truth, or when I see someone fall down, get back up, and say, ‘Damn. That really hurt, but this is important to me and I’m going in again’—my gut reaction is, ‘What a badass.’ \n",
      " --  Brene Brown\n"
     ]
    }
   ],
   "source": [
    "import requests\n",
    "import json\n",
    "res = requests.get(\"https://quotes.rest/qod.json\").json()\n",
    "# res = res.json()\n",
    "# print(json.dumps(res, indent=1))\n",
    "q = res['contents']['quotes'][0]\n",
    "print(q['quote'],\"\\n -- \", q['author'])"
   ]
  },
  {
   "cell_type": "markdown",
   "metadata": {},
   "source": [
    "### Cleaning"
   ]
  },
  {
   "cell_type": "code",
   "execution_count": 22,
   "metadata": {},
   "outputs": [
    {
     "name": "stdout",
     "output_type": "stream",
     "text": [
      "<html op=\"news\"><head><meta name=\"referrer\" content=\"origin\"><meta name=\"viewport\" content=\"width=device-width, initial-scale=1.0\"><link rel=\"stylesheet\" type=\"text/css\" href=\"news.css?sRWxZLdsQ66UESdKIFqN\">\n",
      "        <link rel=\"shortcut icon\" href=\"favicon.ico\">\n",
      "          <link rel=\"alternate\" type=\"application/rss+xml\" title=\"RSS\" href=\"rss\">\n",
      "        <title>Hacker News</title></head><body><center><table id=\"hnmain\" border=\"0\" cellpadding=\"0\" cellspacing=\"0\" width=\"85%\" bgcolor=\"#f6f6ef\">\n",
      "        <tr><td bgcolor=\"#ff6600\"><table border=\"0\" cellpadding=\"0\" cellspacing=\"0\" width=\"100%\" style=\"padding:2px\"><tr><td style=\"width:18px;padding-right:4px\"><a href=\"https://news.ycombinator.com\"><img src=\"y18.gif\" width=\"18\" height=\"18\" style=\"border:1px white solid;\"></a></td>\n",
      "                  <td style=\"line-height:12pt; height:10px;\"><span class=\"pagetop\"><b class=\"hnname\"><a href=\"news\">Hacker News</a></b>\n",
      "              <a href=\"newest\">new</a> | <a href=\"front\">past</a> | <a href=\"newcomments\">comments</a> | <a href=\"ask\">ask</a> | <a href=\"show\">show</a> | <a href=\"jobs\">jobs</a> | <a href=\"submit\">submit</a>            </span></td><td style=\"text-align:right;padding-right:4px;\"><span class=\"pagetop\">\n",
      "                              <a href=\"login?goto=news\">login</a>\n",
      "                          </span></td>\n",
      "              </tr></table></td></tr>\n",
      "<tr id=\"pagespace\" title=\"\" style=\"height:10px\"></tr><tr><td><table border=\"0\" cellpadding=\"0\" cellspacing=\"0\" class=\"itemlist\">\n",
      "              <tr class='athing' id='22954656'>\n",
      "      <td align=\"right\" valign=\"top\" class=\"title\"><span class=\"rank\">1.</span></td>      <td valign=\"top\" class=\"votelinks\"><center><a id='up_22954656' href='vote?id=22954656&amp;how=up&amp;goto=news'><div class='votearrow' title='upvote'></div></a></center></td><td class=\"title\"><a href=\"https://www.bloomberg.com/news/articles/2020-04-23/apple-aims-to-sell-macs-with-its-own-chips-starting-in-2021\" class=\"storylink\">Apple Aims to Sell Macs with Its Own Chips Starting in 2021</a><span class=\"sitebit comhead\"> (<a href=\"from?site=bloomberg.com\"><span class=\"sitestr\">bloomberg.com</span></a>)</span></td></tr><tr><td colspan=\"2\"></td><td class=\"subtext\">\n",
      "        <span class=\"score\" id=\"score_22954656\">66 points</span> by <a href=\"user?id=blopeur\" class=\"hnuser\">blopeur</a> <span class=\"age\"><a href=\"item?id=22954656\">49 minutes ago</a></span> <span id=\"unv_22954656\"></span> | <a href=\"hide?id=22954656&amp;goto=news\">hide</a> | <a href=\"item?id=22954656\">47&nbsp;comments</a>              </td></tr>\n",
      "      <tr class=\"spacer\" style=\"height:5px\"></tr>\n",
      "                <tr class='athing' id='22941224'>\n",
      "      <td align=\"right\" valign=\"top\" class=\"title\"><span class=\"rank\">2.</span></td>      <td valign=\"top\" class=\"votelinks\"><center><a id='up_22941224' href='vote?id=22941224&amp;how=up&amp;goto=news'><div class='votearrow' title='upvote'></div></a></center></td><td class=\"title\"><a href=\"https://gfx-rs.github.io/2020/04/21/wgpu-web.html\" class=\"storylink\">Wgpu-rs on the web</a><span class=\"sitebit comhead\"> (<a href=\"from?site=gfx-rs.github.io\"><span class=\"sitestr\">gfx-rs.github.io</span></a>)</span></td></tr><tr><td colspan=\"2\"></td><td class=\"subtext\">\n",
      "        <span class=\"score\" id=\"score_22941224\">139 points</span> by <a href=\"user?id=grovesNL\" class=\"hnuser\">grovesNL</a> <span class=\"age\"><a href=\"item?id=22941224\">5 hours ago</a></span> <span id=\"unv_22941224\"></span> | <a href=\"hide?id=22941224&amp;goto=news\">hide</a> | <a href=\"item?id=22941224\">19&nbsp;comments</a>              </td></tr>\n",
      "      <tr class=\"spacer\" style=\"height:5px\"></tr>\n",
      "                <tr class='athing' id='22954366'>\n",
      "      <td align=\"right\" valign=\"top\" class=\"title\"><span class=\"rank\">3.</span></td>      <td valign=\"top\" class=\"votelinks\"><center><a id='up_22954366' href='vote?id=22954366&amp;how=up&amp;goto=news'><div class='votearrow' title='upvote'></div></a></center></td><td class=\"title\"><a href=\"http://mhawthorne.net/posts/2013-etsy-netflix-I-push-therefore-I-am/\" class=\"storylink\">I push, therefore I am: two days at Etsy (2013)</a><span class=\"sitebit comhead\"> (<a href=\"from?site=mhawthorne.net\"><span class=\"sitestr\">mhawthorne.net</span></a>)</span></td></tr><tr><td colspan=\"2\"></td><td class=\"subtext\">\n",
      "        <span class=\"score\" id=\"score_22954366\">30 points</span> by <a href=\"user?id=luu\" class=\"hnuser\">luu</a> <span class=\"age\"><a href=\"item?id=22954366\">1 hour ago</a></span> <span id=\"unv_22954366\"></span> | <a href=\"hide?id=22954366&amp;goto=news\">hide</a> | <a href=\"item?id=22954366\">14&nbsp;comments</a>              </td></tr>\n",
      "      <tr class=\"spacer\" style=\"height:5px\"></tr>\n",
      "                <tr class='athing' id='22945630'>\n",
      "      <td align=\"right\" valign=\"top\" class=\"title\"><span class=\"rank\">4.</span></td>      <td valign=\"top\" class=\"votelinks\"><center><a id='up_22945630' href='vote?id=22945630&amp;how=up&amp;goto=news'><div class='votearrow' title='upvote'></div></a></center></td><td class=\"title\"><a href=\"https://googleprojectzero.blogspot.com/2020/04/you-wont-believe-what-this-one-line.html\" class=\"storylink\">What a one line change did to the Chrome sandbox</a><span class=\"sitebit comhead\"> (<a href=\"from?site=googleprojectzero.blogspot.com\"><span class=\"sitestr\">googleprojectzero.blogspot.com</span></a>)</span></td></tr><tr><td colspan=\"2\"></td><td class=\"subtext\">\n",
      "        <span class=\"score\" id=\"score_22945630\">65 points</span> by <a href=\"user?id=jbredeche\" class=\"hnuser\">jbredeche</a> <span class=\"age\"><a href=\"item?id=22945630\">5 hours ago</a></span> <span id=\"unv_22945630\"></span> | <a href=\"hide?id=22945630&amp;goto=news\">hide</a> | <a href=\"item?id=22945630\">22&nbsp;comments</a>              </td></tr>\n",
      "      <tr class=\"spacer\" style=\"height:5px\"></tr>\n",
      "                <tr class='athing' id='22953730'>\n",
      "      <td align=\"right\" valign=\"top\" class=\"title\"><span class=\"rank\">5.</span></td>      <td valign=\"top\" class=\"votelinks\"><center><a id='up_22953730' href='vote?id=22953730&amp;how=up&amp;goto=news'><div class='votearrow' title='upvote'></div></a></center></td><td class=\"title\"><a href=\"https://docs.google.com/presentation/d/1AcB4x7JCWET0ysDr0gsX-EIdQSTyBtmi6OAW7bE0jm0/edit#slide=id.g704abb5039_2_106\" class=\"storylink\">EBPF is turning the Linux kernel into a microkernel</a><span class=\"sitebit comhead\"> (<a href=\"from?site=docs.google.com\"><span class=\"sitestr\">docs.google.com</span></a>)</span></td></tr><tr><td colspan=\"2\"></td><td class=\"subtext\">\n",
      "        <span class=\"score\" id=\"score_22953730\">35 points</span> by <a href=\"user?id=yoquan\" class=\"hnuser\">yoquan</a> <span class=\"age\"><a href=\"item?id=22953730\">3 hours ago</a></span> <span id=\"unv_22953730\"></span> | <a href=\"hide?id=22953730&amp;goto=news\">hide</a> | <a href=\"item?id=22953730\">18&nbsp;comments</a>              </td></tr>\n",
      "      <tr class=\"spacer\" style=\"height:5px\"></tr>\n",
      "                <tr class='athing' id='22954486'>\n",
      "      <td align=\"right\" valign=\"top\" class=\"title\"><span class=\"rank\">6.</span></td>      <td valign=\"top\" class=\"votelinks\"><center><a id='up_22954486' href='vote?id=22954486&amp;how=up&amp;goto=news'><div class='votearrow' title='upvote'></div></a></center></td><td class=\"title\"><a href=\"https://www.federalreserve.gov/monetarypolicy/bst_recenttrends.htm\" class=\"storylink\">Federal Reserve balance sheet trends</a><span class=\"sitebit comhead\"> (<a href=\"from?site=federalreserve.gov\"><span class=\"sitestr\">federalreserve.gov</span></a>)</span></td></tr><tr><td colspan=\"2\"></td><td class=\"subtext\">\n",
      "        <span class=\"score\" id=\"score_22954486\">62 points</span> by <a href=\"user?id=TekMol\" class=\"hnuser\">TekMol</a> <span class=\"age\"><a href=\"item?id=22954486\">1 hour ago</a></span> <span id=\"unv_22954486\"></span> | <a href=\"hide?id=22954486&amp;goto=news\">hide</a> | <a href=\"item?id=22954486\">65&nbsp;comments</a>              </td></tr>\n",
      "      <tr class=\"spacer\" style=\"height:5px\"></tr>\n",
      "                <tr class='athing' id='22951790'>\n",
      "      <td align=\"right\" valign=\"top\" class=\"title\"><span class=\"rank\">7.</span></td>      <td valign=\"top\" class=\"votelinks\"><center><a id='up_22951790' href='vote?id=22951790&amp;how=up&amp;goto=news'><div class='votearrow' title='upvote'></div></a></center></td><td class=\"title\"><a href=\"https://cloud.google.com/blog/topics/anthos/anthos-for-aws-is-now-ga\" class=\"storylink\">Anthos support for multi-cloud is generally available</a><span class=\"sitebit comhead\"> (<a href=\"from?site=cloud.google.com\"><span class=\"sitestr\">cloud.google.com</span></a>)</span></td></tr><tr><td colspan=\"2\"></td><td class=\"subtext\">\n",
      "        <span class=\"score\" id=\"score_22951790\">157 points</span> by <a href=\"user?id=9nGQluzmnq3M\" class=\"hnuser\">9nGQluzmnq3M</a> <span class=\"age\"><a href=\"item?id=22951790\">10 hours ago</a></span> <span id=\"unv_22951790\"></span> | <a href=\"hide?id=22951790&amp;goto=news\">hide</a> | <a href=\"item?id=22951790\">92&nbsp;comments</a>              </td></tr>\n",
      "      <tr class=\"spacer\" style=\"height:5px\"></tr>\n",
      "                <tr class='athing' id='22942461'>\n",
      "      <td align=\"right\" valign=\"top\" class=\"title\"><span class=\"rank\">8.</span></td>      <td valign=\"top\" class=\"votelinks\"><center><a id='up_22942461' href='vote?id=22942461&amp;how=up&amp;goto=news'><div class='votearrow' title='upvote'></div></a></center></td><td class=\"title\"><a href=\"https://github.com/whitequark/irclogger\" class=\"storylink\">IRC Logger with fluid web interface, search function, and live streaming (2019)</a><span class=\"sitebit comhead\"> (<a href=\"from?site=github.com\"><span class=\"sitestr\">github.com</span></a>)</span></td></tr><tr><td colspan=\"2\"></td><td class=\"subtext\">\n",
      "        <span class=\"score\" id=\"score_22942461\">66 points</span> by <a href=\"user?id=luu\" class=\"hnuser\">luu</a> <span class=\"age\"><a href=\"item?id=22942461\">7 hours ago</a></span> <span id=\"unv_22942461\"></span> | <a href=\"hide?id=22942461&amp;goto=news\">hide</a> | <a href=\"item?id=22942461\">26&nbsp;comments</a>              </td></tr>\n",
      "      <tr class=\"spacer\" style=\"height:5px\"></tr>\n",
      "                <tr class='athing' id='22953891'>\n",
      "      <td align=\"right\" valign=\"top\" class=\"title\"><span class=\"rank\">9.</span></td>      <td valign=\"top\" class=\"votelinks\"><center><a id='up_22953891' href='vote?id=22953891&amp;how=up&amp;goto=news'><div class='votearrow' title='upvote'></div></a></center></td><td class=\"title\"><a href=\"https://www.theregister.co.uk/2020/04/23/uk_snoopers_charter_sequel/\" class=\"storylink\">UK’s Investigatory Powers Act is set to expand</a><span class=\"sitebit comhead\"> (<a href=\"from?site=theregister.co.uk\"><span class=\"sitestr\">theregister.co.uk</span></a>)</span></td></tr><tr><td colspan=\"2\"></td><td class=\"subtext\">\n",
      "        <span class=\"score\" id=\"score_22953891\">76 points</span> by <a href=\"user?id=samizdis\" class=\"hnuser\">samizdis</a> <span class=\"age\"><a href=\"item?id=22953891\">3 hours ago</a></span> <span id=\"unv_22953891\"></span> | <a href=\"hide?id=22953891&amp;goto=news\">hide</a> | <a href=\"item?id=22953891\">22&nbsp;comments</a>              </td></tr>\n",
      "      <tr class=\"spacer\" style=\"height:5px\"></tr>\n",
      "                <tr class='athing' id='22953484'>\n",
      "      <td align=\"right\" valign=\"top\" class=\"title\"><span class=\"rank\">10.</span></td>      <td valign=\"top\" class=\"votelinks\"><center><a id='up_22953484' href='vote?id=22953484&amp;how=up&amp;goto=news'><div class='votearrow' title='upvote'></div></a></center></td><td class=\"title\"><a href=\"https://github.com/nikosch86/file-upload\" class=\"storylink\">Show HN: Host your own minimal file sharing site (now with expiring files)</a><span class=\"sitebit comhead\"> (<a href=\"from?site=github.com\"><span class=\"sitestr\">github.com</span></a>)</span></td></tr><tr><td colspan=\"2\"></td><td class=\"subtext\">\n",
      "        <span class=\"score\" id=\"score_22953484\">35 points</span> by <a href=\"user?id=nikosch86\" class=\"hnuser\">nikosch86</a> <span class=\"age\"><a href=\"item?id=22953484\">4 hours ago</a></span> <span id=\"unv_22953484\"></span> | <a href=\"hide?id=22953484&amp;goto=news\">hide</a> | <a href=\"item?id=22953484\">13&nbsp;comments</a>              </td></tr>\n",
      "      <tr class=\"spacer\" style=\"height:5px\"></tr>\n",
      "                <tr class='athing' id='22951312'>\n",
      "      <td align=\"right\" valign=\"top\" class=\"title\"><span class=\"rank\">11.</span></td>      <td valign=\"top\" class=\"votelinks\"><center><a id='up_22951312' href='vote?id=22951312&amp;how=up&amp;goto=news'><div class='votearrow' title='upvote'></div></a></center></td><td class=\"title\"><a href=\"https://spectrum.ieee.org/semiconductors/devices/how-the-father-of-finfets-helped-save-moores-law\" class=\"storylink\">How the Father of FinFETs Helped Save Moore’s Law</a><span class=\"sitebit comhead\"> (<a href=\"from?site=ieee.org\"><span class=\"sitestr\">ieee.org</span></a>)</span></td></tr><tr><td colspan=\"2\"></td><td class=\"subtext\">\n",
      "        <span class=\"score\" id=\"score_22951312\">142 points</span> by <a href=\"user?id=matt_d\" class=\"hnuser\">matt_d</a> <span class=\"age\"><a href=\"item?id=22951312\">12 hours ago</a></span> <span id=\"unv_22951312\"></span> | <a href=\"hide?id=22951312&amp;goto=news\">hide</a> | <a href=\"item?id=22951312\">21&nbsp;comments</a>              </td></tr>\n",
      "      <tr class=\"spacer\" style=\"height:5px\"></tr>\n",
      "                <tr class='athing' id='22946710'>\n",
      "      <td align=\"right\" valign=\"top\" class=\"title\"><span class=\"rank\">12.</span></td>      <td valign=\"top\" class=\"votelinks\"><center><a id='up_22946710' href='vote?id=22946710&amp;how=up&amp;goto=news'><div class='votearrow' title='upvote'></div></a></center></td><td class=\"title\"><a href=\"http://www.haskellforall.com/2020/04/blazing-fast-fibonacci-numbers-using.html\" class=\"storylink\">Fast Fibonacci numbers using Monoids</a><span class=\"sitebit comhead\"> (<a href=\"from?site=haskellforall.com\"><span class=\"sitestr\">haskellforall.com</span></a>)</span></td></tr><tr><td colspan=\"2\"></td><td class=\"subtext\">\n",
      "        <span class=\"score\" id=\"score_22946710\">70 points</span> by <a href=\"user?id=lelf\" class=\"hnuser\">lelf</a> <span class=\"age\"><a href=\"item?id=22946710\">8 hours ago</a></span> <span id=\"unv_22946710\"></span> | <a href=\"hide?id=22946710&amp;goto=news\">hide</a> | <a href=\"item?id=22946710\">15&nbsp;comments</a>              </td></tr>\n",
      "      <tr class=\"spacer\" style=\"height:5px\"></tr>\n",
      "                <tr class='athing' id='22953622'>\n",
      "      <td align=\"right\" valign=\"top\" class=\"title\"><span class=\"rank\">13.</span></td>      <td valign=\"top\" class=\"votelinks\"><center><a id='up_22953622' href='vote?id=22953622&amp;how=up&amp;goto=news'><div class='votearrow' title='upvote'></div></a></center></td><td class=\"title\"><a href=\"https://www.nationalgeographic.org/projects/photo-ark/\" class=\"storylink\">Photo Ark – An effort to document every species living in zoos and sanctuaries</a><span class=\"sitebit comhead\"> (<a href=\"from?site=nationalgeographic.org\"><span class=\"sitestr\">nationalgeographic.org</span></a>)</span></td></tr><tr><td colspan=\"2\"></td><td class=\"subtext\">\n",
      "        <span class=\"score\" id=\"score_22953622\">61 points</span> by <a href=\"user?id=thdrdt\" class=\"hnuser\">thdrdt</a> <span class=\"age\"><a href=\"item?id=22953622\">4 hours ago</a></span> <span id=\"unv_22953622\"></span> | <a href=\"hide?id=22953622&amp;goto=news\">hide</a> | <a href=\"item?id=22953622\">6&nbsp;comments</a>              </td></tr>\n",
      "      <tr class=\"spacer\" style=\"height:5px\"></tr>\n",
      "                <tr class='athing' id='22952085'>\n",
      "      <td align=\"right\" valign=\"top\" class=\"title\"><span class=\"rank\">14.</span></td>      <td valign=\"top\" class=\"votelinks\"><center><a id='up_22952085' href='vote?id=22952085&amp;how=up&amp;goto=news'><div class='votearrow' title='upvote'></div></a></center></td><td class=\"title\"><a href=\"https://daringfireball.net/2020/04/the_2020_iphone_se\" class=\"storylink\">The 2020 iPhone SE</a><span class=\"sitebit comhead\"> (<a href=\"from?site=daringfireball.net\"><span class=\"sitestr\">daringfireball.net</span></a>)</span></td></tr><tr><td colspan=\"2\"></td><td class=\"subtext\">\n",
      "        <span class=\"score\" id=\"score_22952085\">185 points</span> by <a href=\"user?id=FabHK\" class=\"hnuser\">FabHK</a> <span class=\"age\"><a href=\"item?id=22952085\">10 hours ago</a></span> <span id=\"unv_22952085\"></span> | <a href=\"hide?id=22952085&amp;goto=news\">hide</a> | <a href=\"item?id=22952085\">177&nbsp;comments</a>              </td></tr>\n",
      "      <tr class=\"spacer\" style=\"height:5px\"></tr>\n",
      "                <tr class='athing' id='22953176'>\n",
      "      <td align=\"right\" valign=\"top\" class=\"title\"><span class=\"rank\">15.</span></td>      <td valign=\"top\" class=\"votelinks\"><center><a id='up_22953176' href='vote?id=22953176&amp;how=up&amp;goto=news'><div class='votearrow' title='upvote'></div></a></center></td><td class=\"title\"><a href=\"https://www.forbes.com/sites/carltonreid/2020/04/22/paris-to-create-650-kilometers-of-pop-up-corona-cycleways-for-post-lockdown-travel/\" class=\"storylink\">Paris to Create 650 Kilometers of Post-Lockdown Cycleways</a><span class=\"sitebit comhead\"> (<a href=\"from?site=forbes.com\"><span class=\"sitestr\">forbes.com</span></a>)</span></td></tr><tr><td colspan=\"2\"></td><td class=\"subtext\">\n",
      "        <span class=\"score\" id=\"score_22953176\">117 points</span> by <a href=\"user?id=mpweiher\" class=\"hnuser\">mpweiher</a> <span class=\"age\"><a href=\"item?id=22953176\">6 hours ago</a></span> <span id=\"unv_22953176\"></span> | <a href=\"hide?id=22953176&amp;goto=news\">hide</a> | <a href=\"item?id=22953176\">49&nbsp;comments</a>              </td></tr>\n",
      "      <tr class=\"spacer\" style=\"height:5px\"></tr>\n",
      "                <tr class='athing' id='22952131'>\n",
      "      <td align=\"right\" valign=\"top\" class=\"title\"><span class=\"rank\">16.</span></td>      <td valign=\"top\" class=\"votelinks\"><center><a id='up_22952131' href='vote?id=22952131&amp;how=up&amp;goto=news'><div class='votearrow' title='upvote'></div></a></center></td><td class=\"title\"><a href=\"https://luttig.substack.com/p/when-tailwinds-vanish\" class=\"storylink\">When Tailwinds Vanish</a><span class=\"sitebit comhead\"> (<a href=\"from?site=luttig.substack.com\"><span class=\"sitestr\">luttig.substack.com</span></a>)</span></td></tr><tr><td colspan=\"2\"></td><td class=\"subtext\">\n",
      "        <span class=\"score\" id=\"score_22952131\">61 points</span> by <a href=\"user?id=sethbannon\" class=\"hnuser\">sethbannon</a> <span class=\"age\"><a href=\"item?id=22952131\">9 hours ago</a></span> <span id=\"unv_22952131\"></span> | <a href=\"hide?id=22952131&amp;goto=news\">hide</a> | <a href=\"item?id=22952131\">21&nbsp;comments</a>              </td></tr>\n",
      "      <tr class=\"spacer\" style=\"height:5px\"></tr>\n",
      "                <tr class='athing' id='22953506'>\n",
      "      <td align=\"right\" valign=\"top\" class=\"title\"><span class=\"rank\">17.</span></td>      <td valign=\"top\" class=\"votelinks\"><center><a id='up_22953506' href='vote?id=22953506&amp;how=up&amp;goto=news'><div class='votearrow' title='upvote'></div></a></center></td><td class=\"title\"><a href=\"https://wiki.ubuntu.com/FocalFossa/ReleaseNotes\" class=\"storylink\">Ubuntu 20.04 LTS (Focal Fossa)</a><span class=\"sitebit comhead\"> (<a href=\"from?site=ubuntu.com\"><span class=\"sitestr\">ubuntu.com</span></a>)</span></td></tr><tr><td colspan=\"2\"></td><td class=\"subtext\">\n",
      "        <span class=\"score\" id=\"score_22953506\">297 points</span> by <a href=\"user?id=dragonsh\" class=\"hnuser\">dragonsh</a> <span class=\"age\"><a href=\"item?id=22953506\">4 hours ago</a></span> <span id=\"unv_22953506\"></span> | <a href=\"hide?id=22953506&amp;goto=news\">hide</a> | <a href=\"item?id=22953506\">222&nbsp;comments</a>              </td></tr>\n",
      "      <tr class=\"spacer\" style=\"height:5px\"></tr>\n",
      "                <tr class='athing' id='22947424'>\n",
      "      <td align=\"right\" valign=\"top\" class=\"title\"><span class=\"rank\">18.</span></td>      <td valign=\"top\" class=\"votelinks\"><center><a id='up_22947424' href='vote?id=22947424&amp;how=up&amp;goto=news'><div class='votearrow' title='upvote'></div></a></center></td><td class=\"title\"><a href=\"https://techcrunch.com/2020/04/22/magic-leap-announces-layoffs-amid-covid-19-slowdown/\" class=\"storylink\">Magic Leap reportedly slashes jobs and steps away from consumer plans</a><span class=\"sitebit comhead\"> (<a href=\"from?site=techcrunch.com\"><span class=\"sitestr\">techcrunch.com</span></a>)</span></td></tr><tr><td colspan=\"2\"></td><td class=\"subtext\">\n",
      "        <span class=\"score\" id=\"score_22947424\">495 points</span> by <a href=\"user?id=_pius\" class=\"hnuser\">_pius</a> <span class=\"age\"><a href=\"item?id=22947424\">19 hours ago</a></span> <span id=\"unv_22947424\"></span> | <a href=\"hide?id=22947424&amp;goto=news\">hide</a> | <a href=\"item?id=22947424\">398&nbsp;comments</a>              </td></tr>\n",
      "      <tr class=\"spacer\" style=\"height:5px\"></tr>\n",
      "                <tr class='athing' id='22936347'>\n",
      "      <td align=\"right\" valign=\"top\" class=\"title\"><span class=\"rank\">19.</span></td>      <td valign=\"top\" class=\"votelinks\"><center><a id='up_22936347' href='vote?id=22936347&amp;how=up&amp;goto=news'><div class='votearrow' title='upvote'></div></a></center></td><td class=\"title\"><a href=\"https://utcc.utoronto.ca/~cks/space/blog/sysadmin/ChownSymlinkSafety\" class=\"storylink\">An important safety note about chown and symlinks (also chmod and chgrp)</a><span class=\"sitebit comhead\"> (<a href=\"from?site=utoronto.ca\"><span class=\"sitestr\">utoronto.ca</span></a>)</span></td></tr><tr><td colspan=\"2\"></td><td class=\"subtext\">\n",
      "        <span class=\"score\" id=\"score_22936347\">84 points</span> by <a href=\"user?id=zdw\" class=\"hnuser\">zdw</a> <span class=\"age\"><a href=\"item?id=22936347\">13 hours ago</a></span> <span id=\"unv_22936347\"></span> | <a href=\"hide?id=22936347&amp;goto=news\">hide</a> | <a href=\"item?id=22936347\">23&nbsp;comments</a>              </td></tr>\n",
      "      <tr class=\"spacer\" style=\"height:5px\"></tr>\n",
      "                <tr class='athing' id='22938665'>\n",
      "      <td align=\"right\" valign=\"top\" class=\"title\"><span class=\"rank\">20.</span></td>      <td valign=\"top\" class=\"votelinks\"><center><a id='up_22938665' href='vote?id=22938665&amp;how=up&amp;goto=news'><div class='votearrow' title='upvote'></div></a></center></td><td class=\"title\"><a href=\"https://www.nytimes.com/interactive/2020/04/13/t-magazine/artist-recluse.html\" class=\"storylink\">Some artists are disappearing from society to let their work speak for itself</a><span class=\"sitebit comhead\"> (<a href=\"from?site=nytimes.com\"><span class=\"sitestr\">nytimes.com</span></a>)</span></td></tr><tr><td colspan=\"2\"></td><td class=\"subtext\">\n",
      "        <span class=\"score\" id=\"score_22938665\">24 points</span> by <a href=\"user?id=prismatic\" class=\"hnuser\">prismatic</a> <span class=\"age\"><a href=\"item?id=22938665\">7 hours ago</a></span> <span id=\"unv_22938665\"></span> | <a href=\"hide?id=22938665&amp;goto=news\">hide</a> | <a href=\"item?id=22938665\">17&nbsp;comments</a>              </td></tr>\n",
      "      <tr class=\"spacer\" style=\"height:5px\"></tr>\n",
      "                <tr class='athing' id='22940908'>\n",
      "      <td align=\"right\" valign=\"top\" class=\"title\"><span class=\"rank\">21.</span></td>      <td valign=\"top\" class=\"votelinks\"><center><a id='up_22940908' href='vote?id=22940908&amp;how=up&amp;goto=news'><div class='votearrow' title='upvote'></div></a></center></td><td class=\"title\"><a href=\"https://lab.whitequark.org/notes/2016-11-20/writing-udev-rules-for-development-boards/\" class=\"storylink\" rel=\"nofollow\">Writing udev rules for development boards (2016)</a><span class=\"sitebit comhead\"> (<a href=\"from?site=whitequark.org\"><span class=\"sitestr\">whitequark.org</span></a>)</span></td></tr><tr><td colspan=\"2\"></td><td class=\"subtext\">\n",
      "        <span class=\"score\" id=\"score_22940908\">11 points</span> by <a href=\"user?id=luu\" class=\"hnuser\">luu</a> <span class=\"age\"><a href=\"item?id=22940908\">4 hours ago</a></span> <span id=\"unv_22940908\"></span> | <a href=\"hide?id=22940908&amp;goto=news\">hide</a> | <a href=\"item?id=22940908\">discuss</a>              </td></tr>\n",
      "      <tr class=\"spacer\" style=\"height:5px\"></tr>\n",
      "                <tr class='athing' id='22942278'>\n",
      "      <td align=\"right\" valign=\"top\" class=\"title\"><span class=\"rank\">22.</span></td>      <td valign=\"top\" class=\"votelinks\"><center><a id='up_22942278' href='vote?id=22942278&amp;how=up&amp;goto=news'><div class='votearrow' title='upvote'></div></a></center></td><td class=\"title\"><a href=\"https://medium.com/@rakyll/things-i-wished-more-developers-knew-about-databases-2d0178464f78\" class=\"storylink\">Things I wished more developers knew about databases</a><span class=\"sitebit comhead\"> (<a href=\"from?site=medium.com\"><span class=\"sitestr\">medium.com</span></a>)</span></td></tr><tr><td colspan=\"2\"></td><td class=\"subtext\">\n",
      "        <span class=\"score\" id=\"score_22942278\">809 points</span> by <a href=\"user?id=zdw\" class=\"hnuser\">zdw</a> <span class=\"age\"><a href=\"item?id=22942278\">1 day ago</a></span> <span id=\"unv_22942278\"></span> | <a href=\"hide?id=22942278&amp;goto=news\">hide</a> | <a href=\"item?id=22942278\">361&nbsp;comments</a>              </td></tr>\n",
      "      <tr class=\"spacer\" style=\"height:5px\"></tr>\n",
      "                <tr class='athing' id='22945942'>\n",
      "      <td align=\"right\" valign=\"top\" class=\"title\"><span class=\"rank\">23.</span></td>      <td valign=\"top\" class=\"votelinks\"><center><a id='up_22945942' href='vote?id=22945942&amp;how=up&amp;goto=news'><div class='votearrow' title='upvote'></div></a></center></td><td class=\"title\"><a href=\"https://blog.google/inside-google/infrastructure/data-centers-work-harder-sun-shines-wind-blows\" class=\"storylink\">Our data centers now work harder when the sun shines and wind blows</a><span class=\"sitebit comhead\"> (<a href=\"from?site=blog.google\"><span class=\"sitestr\">blog.google</span></a>)</span></td></tr><tr><td colspan=\"2\"></td><td class=\"subtext\">\n",
      "        <span class=\"score\" id=\"score_22945942\">451 points</span> by <a href=\"user?id=martincollignon\" class=\"hnuser\">martincollignon</a> <span class=\"age\"><a href=\"item?id=22945942\">21 hours ago</a></span> <span id=\"unv_22945942\"></span> | <a href=\"hide?id=22945942&amp;goto=news\">hide</a> | <a href=\"item?id=22945942\">164&nbsp;comments</a>              </td></tr>\n",
      "      <tr class=\"spacer\" style=\"height:5px\"></tr>\n",
      "                <tr class='athing' id='22933579'>\n",
      "      <td align=\"right\" valign=\"top\" class=\"title\"><span class=\"rank\">24.</span></td>      <td valign=\"top\" class=\"votelinks\"><center><a id='up_22933579' href='vote?id=22933579&amp;how=up&amp;goto=news'><div class='votearrow' title='upvote'></div></a></center></td><td class=\"title\"><a href=\"https://arxiv.org/abs/2004.08602\" class=\"storylink\">CryptoCam: Privacy Conscious Open Circuit Television</a><span class=\"sitebit comhead\"> (<a href=\"from?site=arxiv.org\"><span class=\"sitestr\">arxiv.org</span></a>)</span></td></tr><tr><td colspan=\"2\"></td><td class=\"subtext\">\n",
      "        <span class=\"score\" id=\"score_22933579\">29 points</span> by <a href=\"user?id=adulau\" class=\"hnuser\">adulau</a> <span class=\"age\"><a href=\"item?id=22933579\">8 hours ago</a></span> <span id=\"unv_22933579\"></span> | <a href=\"hide?id=22933579&amp;goto=news\">hide</a> | <a href=\"item?id=22933579\">4&nbsp;comments</a>              </td></tr>\n",
      "      <tr class=\"spacer\" style=\"height:5px\"></tr>\n",
      "                <tr class='athing' id='22948885'>\n",
      "      <td align=\"right\" valign=\"top\" class=\"title\"><span class=\"rank\">25.</span></td>      <td valign=\"top\" class=\"votelinks\"><center><a id='up_22948885' href='vote?id=22948885&amp;how=up&amp;goto=news'><div class='votearrow' title='upvote'></div></a></center></td><td class=\"title\"><a href=\"https://med.stanford.edu/news/all-news/2013/02/immune-systems-of-healthy-adults-remember-germs-to-which-theyve-never-been-exposed-stanford-study-finds.html\" class=\"storylink\">Adult immune systems ‘remember’ germs to which they’ve never been exposed (2013)</a><span class=\"sitebit comhead\"> (<a href=\"from?site=stanford.edu\"><span class=\"sitestr\">stanford.edu</span></a>)</span></td></tr><tr><td colspan=\"2\"></td><td class=\"subtext\">\n",
      "        <span class=\"score\" id=\"score_22948885\">231 points</span> by <a href=\"user?id=akbarnama\" class=\"hnuser\">akbarnama</a> <span class=\"age\"><a href=\"item?id=22948885\">17 hours ago</a></span> <span id=\"unv_22948885\"></span> | <a href=\"hide?id=22948885&amp;goto=news\">hide</a> | <a href=\"item?id=22948885\">94&nbsp;comments</a>              </td></tr>\n",
      "      <tr class=\"spacer\" style=\"height:5px\"></tr>\n",
      "                <tr class='athing' id='22949604'>\n",
      "      <td align=\"right\" valign=\"top\" class=\"title\"><span class=\"rank\">26.</span></td>      <td valign=\"top\" class=\"votelinks\"><center><a id='up_22949604' href='vote?id=22949604&amp;how=up&amp;goto=news'><div class='votearrow' title='upvote'></div></a></center></td><td class=\"title\"><a href=\"https://molo.ch/\" class=\"storylink\">AOL Moloch: open-source, large scale, packet-capturing, indexing database system</a><span class=\"sitebit comhead\"> (<a href=\"from?site=molo.ch\"><span class=\"sitestr\">molo.ch</span></a>)</span></td></tr><tr><td colspan=\"2\"></td><td class=\"subtext\">\n",
      "        <span class=\"score\" id=\"score_22949604\">214 points</span> by <a href=\"user?id=bottle2\" class=\"hnuser\">bottle2</a> <span class=\"age\"><a href=\"item?id=22949604\">15 hours ago</a></span> <span id=\"unv_22949604\"></span> | <a href=\"hide?id=22949604&amp;goto=news\">hide</a> | <a href=\"item?id=22949604\">125&nbsp;comments</a>              </td></tr>\n",
      "      <tr class=\"spacer\" style=\"height:5px\"></tr>\n",
      "                <tr class='athing' id='22950495'>\n",
      "      <td align=\"right\" valign=\"top\" class=\"title\"><span class=\"rank\">27.</span></td>      <td valign=\"top\" class=\"votelinks\"><center><a id='up_22950495' href='vote?id=22950495&amp;how=up&amp;goto=news'><div class='votearrow' title='upvote'></div></a></center></td><td class=\"title\"><a href=\"https://github.com/apohl79/audiogridder\" class=\"storylink\">AudioGridder – DSP servers using general purpose networks and computers</a><span class=\"sitebit comhead\"> (<a href=\"from?site=github.com\"><span class=\"sitestr\">github.com</span></a>)</span></td></tr><tr><td colspan=\"2\"></td><td class=\"subtext\">\n",
      "        <span class=\"score\" id=\"score_22950495\">53 points</span> by <a href=\"user?id=apohl79\" class=\"hnuser\">apohl79</a> <span class=\"age\"><a href=\"item?id=22950495\">14 hours ago</a></span> <span id=\"unv_22950495\"></span> | <a href=\"hide?id=22950495&amp;goto=news\">hide</a> | <a href=\"item?id=22950495\">23&nbsp;comments</a>              </td></tr>\n",
      "      <tr class=\"spacer\" style=\"height:5px\"></tr>\n",
      "                <tr class='athing' id='22950236'>\n",
      "      <td align=\"right\" valign=\"top\" class=\"title\"><span class=\"rank\">28.</span></td>      <td valign=\"top\" class=\"votelinks\"><center><a id='up_22950236' href='vote?id=22950236&amp;how=up&amp;goto=news'><div class='votearrow' title='upvote'></div></a></center></td><td class=\"title\"><a href=\"https://www.newmobility.global/e-mobility/brighsuns-revolutionary-long-range-ev-batteries-enter-industrial-trials/\" class=\"storylink\">Brighsun’s long-range EV batteries to enter industrial trials</a><span class=\"sitebit comhead\"> (<a href=\"from?site=newmobility.global\"><span class=\"sitestr\">newmobility.global</span></a>)</span></td></tr><tr><td colspan=\"2\"></td><td class=\"subtext\">\n",
      "        <span class=\"score\" id=\"score_22950236\">58 points</span> by <a href=\"user?id=bastijn\" class=\"hnuser\">bastijn</a> <span class=\"age\"><a href=\"item?id=22950236\">14 hours ago</a></span> <span id=\"unv_22950236\"></span> | <a href=\"hide?id=22950236&amp;goto=news\">hide</a> | <a href=\"item?id=22950236\">64&nbsp;comments</a>              </td></tr>\n",
      "      <tr class=\"spacer\" style=\"height:5px\"></tr>\n",
      "                <tr class='athing' id='22944193'>\n",
      "      <td align=\"right\" valign=\"top\" class=\"title\"><span class=\"rank\">29.</span></td>      <td valign=\"top\" class=\"votelinks\"><center><a id='up_22944193' href='vote?id=22944193&amp;how=up&amp;goto=news'><div class='votearrow' title='upvote'></div></a></center></td><td class=\"title\"><a href=\"https://slatestarcodex.com/2020/04/20/the-amish-health-care-system/\" class=\"storylink\">The Amish health care system</a><span class=\"sitebit comhead\"> (<a href=\"from?site=slatestarcodex.com\"><span class=\"sitestr\">slatestarcodex.com</span></a>)</span></td></tr><tr><td colspan=\"2\"></td><td class=\"subtext\">\n",
      "        <span class=\"score\" id=\"score_22944193\">180 points</span> by <a href=\"user?id=bookofjoe\" class=\"hnuser\">bookofjoe</a> <span class=\"age\"><a href=\"item?id=22944193\">15 hours ago</a></span> <span id=\"unv_22944193\"></span> | <a href=\"hide?id=22944193&amp;goto=news\">hide</a> | <a href=\"item?id=22944193\">216&nbsp;comments</a>              </td></tr>\n",
      "      <tr class=\"spacer\" style=\"height:5px\"></tr>\n",
      "                <tr class='athing' id='22943749'>\n",
      "      <td align=\"right\" valign=\"top\" class=\"title\"><span class=\"rank\">30.</span></td>      <td valign=\"top\" class=\"votelinks\"><center><a id='up_22943749' href='vote?id=22943749&amp;how=up&amp;goto=news'><div class='votearrow' title='upvote'></div></a></center></td><td class=\"title\"><a href=\"https://byorgey.wordpress.com/2018/05/06/conversations-with-a-six-year-old-on-functional-programming/\" class=\"storylink\">Conversations with a six-year-old on functional programming (2018)</a><span class=\"sitebit comhead\"> (<a href=\"from?site=byorgey.wordpress.com\"><span class=\"sitestr\">byorgey.wordpress.com</span></a>)</span></td></tr><tr><td colspan=\"2\"></td><td class=\"subtext\">\n",
      "        <span class=\"score\" id=\"score_22943749\">525 points</span> by <a href=\"user?id=_ttg\" class=\"hnuser\">_ttg</a> <span class=\"age\"><a href=\"item?id=22943749\">1 day ago</a></span> <span id=\"unv_22943749\"></span> | <a href=\"hide?id=22943749&amp;goto=news\">hide</a> | <a href=\"item?id=22943749\">149&nbsp;comments</a>              </td></tr>\n",
      "      <tr class=\"spacer\" style=\"height:5px\"></tr>\n",
      "            <tr class=\"morespace\" style=\"height:10px\"></tr><tr><td colspan=\"2\"></td><td class=\"title\"><a href=\"news?p=2\" class=\"morelink\" rel=\"next\">More</a></td></tr>\n",
      "  </table>\n",
      "</td></tr>\n",
      "<tr><td><img src=\"s.gif\" height=\"10\" width=\"0\"><table width=\"100%\" cellspacing=\"0\" cellpadding=\"1\"><tr><td bgcolor=\"#ff6600\"></td></tr></table><br><center><span class=\"yclinks\"><a href=\"newsguidelines.html\">Guidelines</a>\n",
      "        | <a href=\"newsfaq.html\">FAQ</a>\n",
      "        | <a href=\"mailto:hn@ycombinator.com\">Support</a>\n",
      "        | <a href=\"https://github.com/HackerNews/API\">API</a>\n",
      "        | <a href=\"security.html\">Security</a>\n",
      "        | <a href=\"lists\">Lists</a>\n",
      "        | <a href=\"bookmarklet.html\" rel=\"nofollow\">Bookmarklet</a>\n",
      "        | <a href=\"http://www.ycombinator.com/legal/\">Legal</a>\n",
      "        | <a href=\"http://www.ycombinator.com/apply/\">Apply to YC</a>\n",
      "        | <a href=\"mailto:hn@ycombinator.com\">Contact</a></span><br><br><form method=\"get\" action=\"//hn.algolia.com/\">Search:\n",
      "          <input type=\"text\" name=\"q\" value=\"\" size=\"17\" autocorrect=\"off\" spellcheck=\"false\" autocapitalize=\"off\" autocomplete=\"false\"></form>\n",
      "            </center></td></tr>\n",
      "      </table></center></body><script type='text/javascript' src='hn.js?sRWxZLdsQ66UESdKIFqN'></script></html>\n",
      "\n"
     ]
    }
   ],
   "source": [
    "r = requests.get(\"https://news.ycombinator.com\")\n",
    "print(r.text)"
   ]
  },
  {
   "cell_type": "code",
   "execution_count": 27,
   "metadata": {},
   "outputs": [
    {
     "name": "stdout",
     "output_type": "stream",
     "text": [
      "\n",
      "        \n",
      "          \n",
      "        Hacker News\n",
      "        \n",
      "                  Hacker News\n",
      "              new | past | comments | ask | show | jobs | submit            \n",
      "                              login\n",
      "                          \n",
      "              \n",
      "\n",
      "              \n",
      "      1.      Apple Aims to Sell Macs with Its Own Chips Starting in 2021 (bloomberg.com)\n",
      "        66 points by blopeur 49 minutes ago  | hide | 47&nbsp;comments              \n",
      "      \n",
      "                \n",
      "      2.      Wgpu-rs on the web (gfx-rs.github.io)\n",
      "        139 points by grovesNL 5 hours ago  | hide | 19&nbsp;comments              \n",
      "      \n",
      "                \n",
      "      3.      I push, therefore I am: two days at Etsy (2013) (mhawthorne.net)\n",
      "        30 points by luu 1 hour ago  | hide | 14&nbsp;comments              \n",
      "      \n",
      "                \n",
      "      4.      What a one line change did to the Chrome sandbox (googleprojectzero.blogspot.com)\n",
      "        65 points by jbredeche 5 hours ago  | hide | 22&nbsp;comments              \n",
      "      \n",
      "                \n",
      "      5.      EBPF is turning the Linux kernel into a microkernel (docs.google.com)\n",
      "        35 points by yoquan 3 hours ago  | hide | 18&nbsp;comments              \n",
      "      \n",
      "                \n",
      "      6.      Federal Reserve balance sheet trends (federalreserve.gov)\n",
      "        62 points by TekMol 1 hour ago  | hide | 65&nbsp;comments              \n",
      "      \n",
      "                \n",
      "      7.      Anthos support for multi-cloud is generally available (cloud.google.com)\n",
      "        157 points by 9nGQluzmnq3M 10 hours ago  | hide | 92&nbsp;comments              \n",
      "      \n",
      "                \n",
      "      8.      IRC Logger with fluid web interface, search function, and live streaming (2019) (github.com)\n",
      "        66 points by luu 7 hours ago  | hide | 26&nbsp;comments              \n",
      "      \n",
      "                \n",
      "      9.      UK’s Investigatory Powers Act is set to expand (theregister.co.uk)\n",
      "        76 points by samizdis 3 hours ago  | hide | 22&nbsp;comments              \n",
      "      \n",
      "                \n",
      "      10.      Show HN: Host your own minimal file sharing site (now with expiring files) (github.com)\n",
      "        35 points by nikosch86 4 hours ago  | hide | 13&nbsp;comments              \n",
      "      \n",
      "                \n",
      "      11.      How the Father of FinFETs Helped Save Moore’s Law (ieee.org)\n",
      "        142 points by matt_d 12 hours ago  | hide | 21&nbsp;comments              \n",
      "      \n",
      "                \n",
      "      12.      Fast Fibonacci numbers using Monoids (haskellforall.com)\n",
      "        70 points by lelf 8 hours ago  | hide | 15&nbsp;comments              \n",
      "      \n",
      "                \n",
      "      13.      Photo Ark – An effort to document every species living in zoos and sanctuaries (nationalgeographic.org)\n",
      "        61 points by thdrdt 4 hours ago  | hide | 6&nbsp;comments              \n",
      "      \n",
      "                \n",
      "      14.      The 2020 iPhone SE (daringfireball.net)\n",
      "        185 points by FabHK 10 hours ago  | hide | 177&nbsp;comments              \n",
      "      \n",
      "                \n",
      "      15.      Paris to Create 650 Kilometers of Post-Lockdown Cycleways (forbes.com)\n",
      "        117 points by mpweiher 6 hours ago  | hide | 49&nbsp;comments              \n",
      "      \n",
      "                \n",
      "      16.      When Tailwinds Vanish (luttig.substack.com)\n",
      "        61 points by sethbannon 9 hours ago  | hide | 21&nbsp;comments              \n",
      "      \n",
      "                \n",
      "      17.      Ubuntu 20.04 LTS (Focal Fossa) (ubuntu.com)\n",
      "        297 points by dragonsh 4 hours ago  | hide | 222&nbsp;comments              \n",
      "      \n",
      "                \n",
      "      18.      Magic Leap reportedly slashes jobs and steps away from consumer plans (techcrunch.com)\n",
      "        495 points by _pius 19 hours ago  | hide | 398&nbsp;comments              \n",
      "      \n",
      "                \n",
      "      19.      An important safety note about chown and symlinks (also chmod and chgrp) (utoronto.ca)\n",
      "        84 points by zdw 13 hours ago  | hide | 23&nbsp;comments              \n",
      "      \n",
      "                \n",
      "      20.      Some artists are disappearing from society to let their work speak for itself (nytimes.com)\n",
      "        24 points by prismatic 7 hours ago  | hide | 17&nbsp;comments              \n",
      "      \n",
      "                \n",
      "      21.      Writing udev rules for development boards (2016) (whitequark.org)\n",
      "        11 points by luu 4 hours ago  | hide | discuss              \n",
      "      \n",
      "                \n",
      "      22.      Things I wished more developers knew about databases (medium.com)\n",
      "        809 points by zdw 1 day ago  | hide | 361&nbsp;comments              \n",
      "      \n",
      "                \n",
      "      23.      Our data centers now work harder when the sun shines and wind blows (blog.google)\n",
      "        451 points by martincollignon 21 hours ago  | hide | 164&nbsp;comments              \n",
      "      \n",
      "                \n",
      "      24.      CryptoCam: Privacy Conscious Open Circuit Television (arxiv.org)\n",
      "        29 points by adulau 8 hours ago  | hide | 4&nbsp;comments              \n",
      "      \n",
      "                \n",
      "      25.      Adult immune systems ‘remember’ germs to which they’ve never been exposed (2013) (stanford.edu)\n",
      "        231 points by akbarnama 17 hours ago  | hide | 94&nbsp;comments              \n",
      "      \n",
      "                \n",
      "      26.      AOL Moloch: open-source, large scale, packet-capturing, indexing database system (molo.ch)\n",
      "        214 points by bottle2 15 hours ago  | hide | 125&nbsp;comments              \n",
      "      \n",
      "                \n",
      "      27.      AudioGridder – DSP servers using general purpose networks and computers (github.com)\n",
      "        53 points by apohl79 14 hours ago  | hide | 23&nbsp;comments              \n",
      "      \n",
      "                \n",
      "      28.      Brighsun’s long-range EV batteries to enter industrial trials (newmobility.global)\n",
      "        58 points by bastijn 14 hours ago  | hide | 64&nbsp;comments              \n",
      "      \n",
      "                \n",
      "      29.      The Amish health care system (slatestarcodex.com)\n",
      "        180 points by bookofjoe 15 hours ago  | hide | 216&nbsp;comments              \n",
      "      \n",
      "                \n",
      "      30.      Conversations with a six-year-old on functional programming (2018) (byorgey.wordpress.com)\n",
      "        525 points by _ttg 1 day ago  | hide | 149&nbsp;comments              \n",
      "      \n",
      "            More\n",
      "  \n",
      "\n",
      "Guidelines\n",
      "        | FAQ\n",
      "        | Support\n",
      "        | API\n",
      "        | Security\n",
      "        | Lists\n",
      "        | Bookmarklet\n",
      "        | Legal\n",
      "        | Apply to YC\n",
      "        | ContactSearch:\n",
      "          \n",
      "            \n",
      "      \n",
      "\n"
     ]
    }
   ],
   "source": [
    "# using regex\n",
    "import re\n",
    "\n",
    "pattern = re.compile(r'<.*?>')  # tags look like <...>\n",
    "print(pattern.sub('', r.text))  # replace them with blank"
   ]
  },
  {
   "cell_type": "code",
   "execution_count": 28,
   "metadata": {},
   "outputs": [
    {
     "name": "stdout",
     "output_type": "stream",
     "text": [
      "\n",
      "        \n",
      "          \n",
      "        Hacker News\n",
      "        \n",
      "                  Hacker News\n",
      "              new | past | comments | ask | show | jobs | submit            \n",
      "                              login\n",
      "                          \n",
      "              \n",
      "\n",
      "              \n",
      "      1.      Apple Aims to Sell Macs with Its Own Chips Starting in 2021 (bloomberg.com)\n",
      "        66 points by blopeur 49 minutes ago  | hide | 47 comments              \n",
      "      \n",
      "                \n",
      "      2.      Wgpu-rs on the web (gfx-rs.github.io)\n",
      "        139 points by grovesNL 5 hours ago  | hide | 19 comments              \n",
      "      \n",
      "                \n",
      "      3.      I push, therefore I am: two days at Etsy (2013) (mhawthorne.net)\n",
      "        30 points by luu 1 hour ago  | hide | 14 comments              \n",
      "      \n",
      "                \n",
      "      4.      What a one line change did to the Chrome sandbox (googleprojectzero.blogspot.com)\n",
      "        65 points by jbredeche 5 hours ago  | hide | 22 comments              \n",
      "      \n",
      "                \n",
      "      5.      EBPF is turning the Linux kernel into a microkernel (docs.google.com)\n",
      "        35 points by yoquan 3 hours ago  | hide | 18 comments              \n",
      "      \n",
      "                \n",
      "      6.      Federal Reserve balance sheet trends (federalreserve.gov)\n",
      "        62 points by TekMol 1 hour ago  | hide | 65 comments              \n",
      "      \n",
      "                \n",
      "      7.      Anthos support for multi-cloud is generally available (cloud.google.com)\n",
      "        157 points by 9nGQluzmnq3M 10 hours ago  | hide | 92 comments              \n",
      "      \n",
      "                \n",
      "      8.      IRC Logger with fluid web interface, search function, and live streaming (2019) (github.com)\n",
      "        66 points by luu 7 hours ago  | hide | 26 comments              \n",
      "      \n",
      "                \n",
      "      9.      UK’s Investigatory Powers Act is set to expand (theregister.co.uk)\n",
      "        76 points by samizdis 3 hours ago  | hide | 22 comments              \n",
      "      \n",
      "                \n",
      "      10.      Show HN: Host your own minimal file sharing site (now with expiring files) (github.com)\n",
      "        35 points by nikosch86 4 hours ago  | hide | 13 comments              \n",
      "      \n",
      "                \n",
      "      11.      How the Father of FinFETs Helped Save Moore’s Law (ieee.org)\n",
      "        142 points by matt_d 12 hours ago  | hide | 21 comments              \n",
      "      \n",
      "                \n",
      "      12.      Fast Fibonacci numbers using Monoids (haskellforall.com)\n",
      "        70 points by lelf 8 hours ago  | hide | 15 comments              \n",
      "      \n",
      "                \n",
      "      13.      Photo Ark – An effort to document every species living in zoos and sanctuaries (nationalgeographic.org)\n",
      "        61 points by thdrdt 4 hours ago  | hide | 6 comments              \n",
      "      \n",
      "                \n",
      "      14.      The 2020 iPhone SE (daringfireball.net)\n",
      "        185 points by FabHK 10 hours ago  | hide | 177 comments              \n",
      "      \n",
      "                \n",
      "      15.      Paris to Create 650 Kilometers of Post-Lockdown Cycleways (forbes.com)\n",
      "        117 points by mpweiher 6 hours ago  | hide | 49 comments              \n",
      "      \n",
      "                \n",
      "      16.      When Tailwinds Vanish (luttig.substack.com)\n",
      "        61 points by sethbannon 9 hours ago  | hide | 21 comments              \n",
      "      \n",
      "                \n",
      "      17.      Ubuntu 20.04 LTS (Focal Fossa) (ubuntu.com)\n",
      "        297 points by dragonsh 4 hours ago  | hide | 222 comments              \n",
      "      \n",
      "                \n",
      "      18.      Magic Leap reportedly slashes jobs and steps away from consumer plans (techcrunch.com)\n",
      "        495 points by _pius 19 hours ago  | hide | 398 comments              \n",
      "      \n",
      "                \n",
      "      19.      An important safety note about chown and symlinks (also chmod and chgrp) (utoronto.ca)\n",
      "        84 points by zdw 13 hours ago  | hide | 23 comments              \n",
      "      \n",
      "                \n",
      "      20.      Some artists are disappearing from society to let their work speak for itself (nytimes.com)\n",
      "        24 points by prismatic 7 hours ago  | hide | 17 comments              \n",
      "      \n",
      "                \n",
      "      21.      Writing udev rules for development boards (2016) (whitequark.org)\n",
      "        11 points by luu 4 hours ago  | hide | discuss              \n",
      "      \n",
      "                \n",
      "      22.      Things I wished more developers knew about databases (medium.com)\n",
      "        809 points by zdw 1 day ago  | hide | 361 comments              \n",
      "      \n",
      "                \n",
      "      23.      Our data centers now work harder when the sun shines and wind blows (blog.google)\n",
      "        451 points by martincollignon 21 hours ago  | hide | 164 comments              \n",
      "      \n",
      "                \n",
      "      24.      CryptoCam: Privacy Conscious Open Circuit Television (arxiv.org)\n",
      "        29 points by adulau 8 hours ago  | hide | 4 comments              \n",
      "      \n",
      "                \n",
      "      25.      Adult immune systems ‘remember’ germs to which they’ve never been exposed (2013) (stanford.edu)\n",
      "        231 points by akbarnama 17 hours ago  | hide | 94 comments              \n",
      "      \n",
      "                \n",
      "      26.      AOL Moloch: open-source, large scale, packet-capturing, indexing database system (molo.ch)\n",
      "        214 points by bottle2 15 hours ago  | hide | 125 comments              \n",
      "      \n",
      "                \n",
      "      27.      AudioGridder – DSP servers using general purpose networks and computers (github.com)\n",
      "        53 points by apohl79 14 hours ago  | hide | 23 comments              \n",
      "      \n",
      "                \n",
      "      28.      Brighsun’s long-range EV batteries to enter industrial trials (newmobility.global)\n",
      "        58 points by bastijn 14 hours ago  | hide | 64 comments              \n",
      "      \n",
      "                \n",
      "      29.      The Amish health care system (slatestarcodex.com)\n",
      "        180 points by bookofjoe 15 hours ago  | hide | 216 comments              \n",
      "      \n",
      "                \n",
      "      30.      Conversations with a six-year-old on functional programming (2018) (byorgey.wordpress.com)\n",
      "        525 points by _ttg 1 day ago  | hide | 149 comments              \n",
      "      \n",
      "            More\n",
      "  \n",
      "\n",
      "Guidelines\n",
      "        | FAQ\n",
      "        | Support\n",
      "        | API\n",
      "        | Security\n",
      "        | Lists\n",
      "        | Bookmarklet\n",
      "        | Legal\n",
      "        | Apply to YC\n",
      "        | ContactSearch:\n",
      "          \n",
      "            \n",
      "      \n",
      "\n"
     ]
    }
   ],
   "source": [
    "from bs4 import BeautifulSoup\n",
    "\n",
    "# Remove HTML tags using Beautiful Soup library\n",
    "soup = BeautifulSoup(r.text, \"html5lib\")\n",
    "print(soup.get_text())"
   ]
  },
  {
   "cell_type": "code",
   "execution_count": 29,
   "metadata": {},
   "outputs": [
    {
     "data": {
      "text/plain": [
       "<tr class=\"athing\" id=\"22954656\">\n",
       "      <td align=\"right\" class=\"title\" valign=\"top\"><span class=\"rank\">1.</span></td>      <td class=\"votelinks\" valign=\"top\"><center><a href=\"vote?id=22954656&amp;how=up&amp;goto=news\" id=\"up_22954656\"><div class=\"votearrow\" title=\"upvote\"></div></a></center></td><td class=\"title\"><a class=\"storylink\" href=\"https://www.bloomberg.com/news/articles/2020-04-23/apple-aims-to-sell-macs-with-its-own-chips-starting-in-2021\">Apple Aims to Sell Macs with Its Own Chips Starting in 2021</a><span class=\"sitebit comhead\"> (<a href=\"from?site=bloomberg.com\"><span class=\"sitestr\">bloomberg.com</span></a>)</span></td></tr>"
      ]
     },
     "execution_count": 29,
     "metadata": {},
     "output_type": "execute_result"
    }
   ],
   "source": [
    "# Find all articles\n",
    "summaries = soup.find_all(\"tr\", class_=\"athing\")\n",
    "summaries[0]"
   ]
  },
  {
   "cell_type": "code",
   "execution_count": 35,
   "metadata": {},
   "outputs": [
    {
     "data": {
      "text/plain": [
       "'Apple Aims to Sell Macs with Its Own Chips Starting in 2021'"
      ]
     },
     "execution_count": 35,
     "metadata": {},
     "output_type": "execute_result"
    }
   ],
   "source": [
    "summaries[0].find('a', class_='storylink').get_text().strip()"
   ]
  },
  {
   "cell_type": "code",
   "execution_count": 38,
   "metadata": {},
   "outputs": [
    {
     "data": {
      "text/plain": [
       "30"
      ]
     },
     "execution_count": 38,
     "metadata": {},
     "output_type": "execute_result"
    }
   ],
   "source": [
    "articles = []\n",
    "summaries = soup.find_all('tr', class_='athing')\n",
    "for summary in summaries:\n",
    "    articles.append(summary.find('a', class_='storylink').get_text().strip())\n"
   ]
  },
  {
   "cell_type": "code",
   "execution_count": 60,
   "metadata": {},
   "outputs": [
    {
     "name": "stdout",
     "output_type": "stream",
     "text": [
      "Apple Aims to Sell Macs with Its Own Chips Starting in 2021\n",
      "Wgpu-rs on the web\n",
      "I push, therefore I am: two days at Etsy (2013)\n",
      "What a one line change did to the Chrome sandbox\n",
      "EBPF is turning the Linux kernel into a microkernel\n",
      "Federal Reserve balance sheet trends\n",
      "Anthos support for multi-cloud is generally available\n",
      "IRC Logger with fluid web interface, search function, and live streaming (2019)\n",
      "UK’s Investigatory Powers Act is set to expand\n",
      "Show HN: Host your own minimal file sharing site (now with expiring files)\n",
      "How the Father of FinFETs Helped Save Moore’s Law\n",
      "Fast Fibonacci numbers using Monoids\n",
      "Photo Ark – An effort to document every species living in zoos and sanctuaries\n",
      "The 2020 iPhone SE\n",
      "Paris to Create 650 Kilometers of Post-Lockdown Cycleways\n",
      "When Tailwinds Vanish\n",
      "Ubuntu 20.04 LTS (Focal Fossa)\n",
      "Magic Leap reportedly slashes jobs and steps away from consumer plans\n",
      "An important safety note about chown and symlinks (also chmod and chgrp)\n",
      "Some artists are disappearing from society to let their work speak for itself\n",
      "Writing udev rules for development boards (2016)\n",
      "Things I wished more developers knew about databases\n",
      "Our data centers now work harder when the sun shines and wind blows\n",
      "CryptoCam: Privacy Conscious Open Circuit Television\n",
      "Adult immune systems ‘remember’ germs to which they’ve never been exposed (2013)\n",
      "AOL Moloch: open-source, large scale, packet-capturing, indexing database system\n",
      "AudioGridder – DSP servers using general purpose networks and computers\n",
      "Brighsun’s long-range EV batteries to enter industrial trials\n",
      "The Amish health care system\n",
      "Conversations with a six-year-old on functional programming (2018)\n"
     ]
    }
   ],
   "source": [
    "len(articles)\n",
    "print(*articles, sep='\\n')"
   ]
  },
  {
   "cell_type": "markdown",
   "metadata": {},
   "source": [
    "### Normalization"
   ]
  },
  {
   "cell_type": "markdown",
   "metadata": {},
   "source": [
    "#### Case Normalization"
   ]
  },
  {
   "cell_type": "code",
   "execution_count": 69,
   "metadata": {},
   "outputs": [
    {
     "name": "stdout",
     "output_type": "stream",
     "text": [
      "The first time you see The Second Renaissance it may look boring. Look at it at least twice and definitely watch part 2. It will change your view of the matrix. Are the human people the ones who started the war ? Is AI a bad thing ?\n"
     ]
    }
   ],
   "source": [
    "# Sample text\n",
    "text = \"The first time you see The Second Renaissance it may look boring. Look at it at least twice and definitely watch part 2. It will change your view of the matrix. Are the human people the ones who started the war ? Is AI a bad thing ?\"\n",
    "print(text)"
   ]
  },
  {
   "cell_type": "code",
   "execution_count": 70,
   "metadata": {},
   "outputs": [
    {
     "data": {
      "text/plain": [
       "'the first time you see the second renaissance it may look boring. look at it at least twice and definitely watch part 2. it will change your view of the matrix. are the human people the ones who started the war ? is ai a bad thing ?'"
      ]
     },
     "execution_count": 70,
     "metadata": {},
     "output_type": "execute_result"
    }
   ],
   "source": [
    "## lower case\n",
    "text = text.lower()\n",
    "text"
   ]
  },
  {
   "cell_type": "code",
   "execution_count": 71,
   "metadata": {},
   "outputs": [
    {
     "data": {
      "text/plain": [
       "'the first time you see the second renaissance it may look boring  look at it at least twice and definitely watch part 2  it will change your view of the matrix  are the human people the ones who started the war   is ai a bad thing  '"
      ]
     },
     "execution_count": 71,
     "metadata": {},
     "output_type": "execute_result"
    }
   ],
   "source": [
    "## removing punctuations\n",
    "text = re.sub(r\"[^a-zA-Z0-9]\",' ', text)\n",
    "text"
   ]
  },
  {
   "cell_type": "markdown",
   "metadata": {},
   "source": [
    "### Tokenization"
   ]
  },
  {
   "cell_type": "code",
   "execution_count": 73,
   "metadata": {},
   "outputs": [],
   "source": [
    "### words --> tokens\n",
    "words = text.split()\n"
   ]
  },
  {
   "cell_type": "markdown",
   "metadata": {},
   "source": [
    "### NLTK"
   ]
  },
  {
   "cell_type": "code",
   "execution_count": 84,
   "metadata": {},
   "outputs": [
    {
     "name": "stderr",
     "output_type": "stream",
     "text": [
      "[nltk_data] Downloading package punkt to /home/vinc3/Projects/ai-\n",
      "[nltk_data]     stuff/Natural Language Processing/Text\n",
      "[nltk_data]     Processing/nltk_data...\n",
      "[nltk_data]   Unzipping tokenizers/punkt.zip.\n"
     ]
    },
    {
     "data": {
      "text/plain": [
       "True"
      ]
     },
     "execution_count": 84,
     "metadata": {},
     "output_type": "execute_result"
    }
   ],
   "source": [
    "import os\n",
    "import nltk\n",
    "nltk.download('punkt')"
   ]
  },
  {
   "cell_type": "code",
   "execution_count": 75,
   "metadata": {},
   "outputs": [
    {
     "name": "stdout",
     "output_type": "stream",
     "text": [
      "Dr. Smith graduated from the University of Washington. He later started an analytics firm called Lux, which catered to enterprise customers.\n"
     ]
    }
   ],
   "source": [
    "# Another sample text\n",
    "text = \"Dr. Smith graduated from the University of Washington. He later started an analytics firm called Lux, which catered to enterprise customers.\"\n",
    "print(text)"
   ]
  },
  {
   "cell_type": "code",
   "execution_count": 85,
   "metadata": {},
   "outputs": [
    {
     "name": "stdout",
     "output_type": "stream",
     "text": [
      "['Dr.', 'Smith', 'graduated', 'from', 'the', 'University', 'of', 'Washington', '.', 'He', 'later', 'started', 'an', 'analytics', 'firm', 'called', 'Lux', ',', 'which', 'catered', 'to', 'enterprise', 'customers', '.']\n"
     ]
    }
   ],
   "source": [
    "from nltk.tokenize import word_tokenize\n",
    "\n",
    "# Split text into words using NLTK\n",
    "words = word_tokenize(text)\n",
    "print(words)"
   ]
  },
  {
   "cell_type": "code",
   "execution_count": 86,
   "metadata": {},
   "outputs": [
    {
     "name": "stdout",
     "output_type": "stream",
     "text": [
      "['Dr. Smith graduated from the University of Washington.', 'He later started an analytics firm called Lux, which catered to enterprise customers.']\n"
     ]
    }
   ],
   "source": [
    "from nltk.tokenize import sent_tokenize\n",
    "\n",
    "# Split text into sentences\n",
    "sentences = sent_tokenize(text)\n",
    "print(sentences)"
   ]
  },
  {
   "cell_type": "code",
   "execution_count": 90,
   "metadata": {},
   "outputs": [
    {
     "name": "stderr",
     "output_type": "stream",
     "text": [
      "[nltk_data] Downloading package stopwords to /home/vinc3/Projects/ai-\n",
      "[nltk_data]     stuff/Natural Language Processing/Text\n",
      "[nltk_data]     Processing/nltk_data...\n",
      "[nltk_data]   Package stopwords is already up-to-date!\n"
     ]
    },
    {
     "data": {
      "text/plain": [
       "True"
      ]
     },
     "execution_count": 90,
     "metadata": {},
     "output_type": "execute_result"
    }
   ],
   "source": [
    "## listing stop words\n",
    "from nltk.corpus import stopwords\n",
    "nltk.download('stopwords')\n",
    "# stopwords.words('english')"
   ]
  },
  {
   "cell_type": "code",
   "execution_count": 92,
   "metadata": {},
   "outputs": [
    {
     "name": "stdout",
     "output_type": "stream",
     "text": [
      "['i', 'me', 'my', 'myself', 'we', 'our', 'ours', 'ourselves', 'you', \"you're\", \"you've\", \"you'll\", \"you'd\", 'your', 'yours', 'yourself', 'yourselves', 'he', 'him', 'his', 'himself', 'she', \"she's\", 'her', 'hers', 'herself', 'it', \"it's\", 'its', 'itself', 'they', 'them', 'their', 'theirs', 'themselves', 'what', 'which', 'who', 'whom', 'this', 'that', \"that'll\", 'these', 'those', 'am', 'is', 'are', 'was', 'were', 'be', 'been', 'being', 'have', 'has', 'had', 'having', 'do', 'does', 'did', 'doing', 'a', 'an', 'the', 'and', 'but', 'if', 'or', 'because', 'as', 'until', 'while', 'of', 'at', 'by', 'for', 'with', 'about', 'against', 'between', 'into', 'through', 'during', 'before', 'after', 'above', 'below', 'to', 'from', 'up', 'down', 'in', 'out', 'on', 'off', 'over', 'under', 'again', 'further', 'then', 'once', 'here', 'there', 'when', 'where', 'why', 'how', 'all', 'any', 'both', 'each', 'few', 'more', 'most', 'other', 'some', 'such', 'no', 'nor', 'not', 'only', 'own', 'same', 'so', 'than', 'too', 'very', 's', 't', 'can', 'will', 'just', 'don', \"don't\", 'should', \"should've\", 'now', 'd', 'll', 'm', 'o', 're', 've', 'y', 'ain', 'aren', \"aren't\", 'couldn', \"couldn't\", 'didn', \"didn't\", 'doesn', \"doesn't\", 'hadn', \"hadn't\", 'hasn', \"hasn't\", 'haven', \"haven't\", 'isn', \"isn't\", 'ma', 'mightn', \"mightn't\", 'mustn', \"mustn't\", 'needn', \"needn't\", 'shan', \"shan't\", 'shouldn', \"shouldn't\", 'wasn', \"wasn't\", 'weren', \"weren't\", 'won', \"won't\", 'wouldn', \"wouldn't\"]\n"
     ]
    }
   ],
   "source": [
    "print(stopwords.words('english'))"
   ]
  },
  {
   "cell_type": "code",
   "execution_count": 96,
   "metadata": {},
   "outputs": [
    {
     "name": "stdout",
     "output_type": "stream",
     "text": [
      "['the', 'first', 'time', 'you', 'see', 'the', 'second', 'renaissance', 'it', 'may', 'look', 'boring', '.', 'look', 'at', 'it', 'at', 'least', 'twice', 'and', 'definitely', 'watch', 'part', '2.', 'it', 'will', 'change', 'your', 'view', 'of', 'the', 'matrix', '.', 'are', 'the', 'human', 'people', 'the', 'ones', 'who', 'started', 'the', 'war', '?', 'is', 'ai', 'a', 'bad', 'thing', '?']\n"
     ]
    }
   ],
   "source": [
    "# Reset text\n",
    "text = \"The first time you see The Second Renaissance it may look boring. Look at it at least twice and definitely watch part 2. It will change your view of the matrix. Are the human people the ones who started the war ? Is AI a bad thing ?\"\n",
    "\n",
    "from nltk.tokenize import word_tokenize\n",
    "words = word_tokenize(text.lower())\n",
    "print(words)"
   ]
  },
  {
   "cell_type": "code",
   "execution_count": 97,
   "metadata": {},
   "outputs": [
    {
     "name": "stdout",
     "output_type": "stream",
     "text": [
      "['first', 'time', 'see', 'second', 'renaissance', 'may', 'look', 'boring', '.', 'look', 'least', 'twice', 'definitely', 'watch', 'part', '2.', 'change', 'view', 'matrix', '.', 'human', 'people', 'ones', 'started', 'war', '?', 'ai', 'bad', 'thing', '?']\n"
     ]
    }
   ],
   "source": [
    "## remove stopwords\n",
    "words = [w for w in words if w not in stopwords.words('english')]\n",
    "print(words)"
   ]
  },
  {
   "cell_type": "markdown",
   "metadata": {},
   "source": [
    "### Sentence Parsing"
   ]
  },
  {
   "cell_type": "code",
   "execution_count": 98,
   "metadata": {},
   "outputs": [
    {
     "name": "stdout",
     "output_type": "stream",
     "text": [
      "(S\n",
      "  (NP I)\n",
      "  (VP\n",
      "    (VP (V shot) (NP (Det an) (N elephant)))\n",
      "    (PP (P in) (NP (Det my) (N pajamas)))))\n",
      "(S\n",
      "  (NP I)\n",
      "  (VP\n",
      "    (V shot)\n",
      "    (NP (Det an) (N elephant) (PP (P in) (NP (Det my) (N pajamas))))))\n"
     ]
    }
   ],
   "source": [
    "import nltk\n",
    "\n",
    "# Define a custom grammar\n",
    "my_grammar = nltk.CFG.fromstring(\"\"\"\n",
    "S -> NP VP\n",
    "PP -> P NP\n",
    "NP -> Det N | Det N PP | 'I'\n",
    "VP -> V NP | VP PP\n",
    "Det -> 'an' | 'my'\n",
    "N -> 'elephant' | 'pajamas'\n",
    "V -> 'shot'\n",
    "P -> 'in'\n",
    "\"\"\")\n",
    "parser = nltk.ChartParser(my_grammar)\n",
    "\n",
    "# Parse a sentence\n",
    "sentence = word_tokenize(\"I shot an elephant in my pajamas\")\n",
    "for tree in parser.parse(sentence):\n",
    "    print(tree)"
   ]
  },
  {
   "cell_type": "markdown",
   "metadata": {},
   "source": [
    "## Stemming & Lemmatization\n",
    "\n",
    "### Stemming"
   ]
  },
  {
   "cell_type": "code",
   "execution_count": 99,
   "metadata": {},
   "outputs": [],
   "source": [
    "from nltk.stem.porter import PorterStemmer"
   ]
  },
  {
   "cell_type": "code",
   "execution_count": 102,
   "metadata": {},
   "outputs": [
    {
     "name": "stdout",
     "output_type": "stream",
     "text": [
      "['first', 'time', 'see', 'second', 'renaiss', 'may', 'look', 'bore', '.', 'look', 'least', 'twice', 'definit', 'watch', 'part', '2.', 'chang', 'view', 'matrix', '.', 'human', 'peopl', 'one', 'start', 'war', '?', 'ai', 'bad', 'thing', '?']\n"
     ]
    }
   ],
   "source": [
    "# Reduce words to their stems\n",
    "stemmed = [PorterStemmer().stem(w) for w in words]\n",
    "print(stemmed)"
   ]
  },
  {
   "cell_type": "markdown",
   "metadata": {},
   "source": [
    "### Lemmatization"
   ]
  },
  {
   "cell_type": "code",
   "execution_count": 105,
   "metadata": {},
   "outputs": [
    {
     "name": "stderr",
     "output_type": "stream",
     "text": [
      "[nltk_data] Downloading package wordnet to /home/vinc3/Projects/ai-\n",
      "[nltk_data]     stuff/Natural Language Processing/Text\n",
      "[nltk_data]     Processing/nltk_data...\n",
      "[nltk_data]   Unzipping corpora/wordnet.zip.\n"
     ]
    },
    {
     "data": {
      "text/plain": [
       "True"
      ]
     },
     "execution_count": 105,
     "metadata": {},
     "output_type": "execute_result"
    }
   ],
   "source": [
    "from nltk.stem.wordnet import WordNetLemmatizer\n",
    "nltk.download('wordnet')"
   ]
  },
  {
   "cell_type": "code",
   "execution_count": 107,
   "metadata": {},
   "outputs": [
    {
     "name": "stdout",
     "output_type": "stream",
     "text": [
      "['first', 'time', 'see', 'second', 'renaissance', 'may', 'look', 'boring', '.', 'look', 'least', 'twice', 'definitely', 'watch', 'part', '2.', 'change', 'view', 'matrix', '.', 'human', 'people', 'one', 'started', 'war', '?', 'ai', 'bad', 'thing', '?']\n"
     ]
    }
   ],
   "source": [
    "# Reduce words to their root form\n",
    "lemmed = [WordNetLemmatizer().lemmatize(w) for w in words]\n",
    "print(lemmed)"
   ]
  },
  {
   "cell_type": "code",
   "execution_count": 109,
   "metadata": {},
   "outputs": [
    {
     "name": "stdout",
     "output_type": "stream",
     "text": [
      "['first', 'time', 'see', 'second', 'renaissance', 'may', 'look', 'bore', '.', 'look', 'least', 'twice', 'definitely', 'watch', 'part', '2.', 'change', 'view', 'matrix', '.', 'human', 'people', 'ones', 'start', 'war', '?', 'ai', 'bad', 'thing', '?']\n"
     ]
    }
   ],
   "source": [
    "# Lemmatize verbs by specifying pos\n",
    "lemmed = [WordNetLemmatizer().lemmatize(w, pos='v') for w in words]\n",
    "print(lemmed)"
   ]
  },
  {
   "cell_type": "code",
   "execution_count": null,
   "metadata": {},
   "outputs": [],
   "source": []
  },
  {
   "cell_type": "markdown",
   "metadata": {},
   "source": [
    "### Counting word frequencies"
   ]
  },
  {
   "cell_type": "code",
   "execution_count": 22,
   "metadata": {},
   "outputs": [
    {
     "name": "stdout",
     "output_type": "stream",
     "text": [
      "10 most common words:\n",
      "Word\tCount\n",
      "a\t9\n",
      "he\t6\n",
      "the\t6\n",
      "and\t5\n",
      "as\t4\n",
      "was\t4\n",
      "with\t3\n",
      "i\t2\n",
      "of\t2\n",
      "his\t2\n",
      "\n",
      "10 least common words:\n",
      "Word\tCount\n",
      "tables,\t1\n",
      "merry\t1\n",
      "word\t1\n",
      "or\t1\n",
      "slap\t1\n",
      "on\t1\n",
      "for\t1\n",
      "more\t1\n",
      "favoured\t1\n",
      "guests.\t1\n"
     ]
    }
   ],
   "source": [
    "# from collections import Counter\n",
    "\n",
    "\"\"\"Count words.\"\"\"\n",
    "\n",
    "def count_words(text):\n",
    "    \"\"\"Count how many times each unique word occurs in text.\"\"\"\n",
    "    text = text.lower().split()\n",
    "    counts = dict() \n",
    "    \n",
    "    for word in text:\n",
    "        if word in counts:\n",
    "            counts[word] += 1\n",
    "        else:\n",
    "            counts[word] = 1\n",
    "    \n",
    "    return counts \n",
    "    \n",
    "\n",
    "def test_run():\n",
    "    with open(\"input.txt\", \"r\") as f:\n",
    "        text = f.read()\n",
    "        counts = count_words(text)\n",
    "        sorted_counts = sorted(counts.items(), key=lambda pair: pair[1], reverse=True)\n",
    "        \n",
    "        print(\"10 most common words:\\nWord\\tCount\")\n",
    "        for word, count in sorted_counts[:10]:\n",
    "            print(\"{}\\t{}\".format(word, count))\n",
    "        \n",
    "        print(\"\\n10 least common words:\\nWord\\tCount\")\n",
    "        for word, count in sorted_counts[-10:]:\n",
    "            print(\"{}\\t{}\".format(word, count))\n",
    "test_run()"
   ]
  },
  {
   "cell_type": "code",
   "execution_count": null,
   "metadata": {},
   "outputs": [],
   "source": []
  },
  {
   "cell_type": "code",
   "execution_count": null,
   "metadata": {},
   "outputs": [],
   "source": []
  }
 ],
 "metadata": {
  "kernelspec": {
   "display_name": "Python 3",
   "language": "python",
   "name": "python3"
  },
  "language_info": {
   "codemirror_mode": {
    "name": "ipython",
    "version": 3
   },
   "file_extension": ".py",
   "mimetype": "text/x-python",
   "name": "python",
   "nbconvert_exporter": "python",
   "pygments_lexer": "ipython3",
   "version": "3.7.6"
  }
 },
 "nbformat": 4,
 "nbformat_minor": 4
}
